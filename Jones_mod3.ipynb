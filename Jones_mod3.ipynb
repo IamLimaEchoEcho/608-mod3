{
 "cells": [
  {
   "cell_type": "code",
   "execution_count": 15,
   "metadata": {},
   "outputs": [],
   "source": [
    "# - Lee Jones - Module 3 -\n",
    "#User created functions\n",
    "\n",
    "#Create a function for square \n",
    "def square(number):\n",
    "    \"\"\"Calculate the square of a number.\"\"\"\n",
    "    return number ** 2\n",
    "\n",
    "#Create a function for square root\n",
    "def square_root(number):\n",
    "    return number ** (1/2)\n",
    "\n",
    "#Create a function maximum value\n",
    "def maximum(value1, value2, value3): \n",
    "    \"\"\"Return the maximum of three values.\"\"\"\n",
    "    max_value = value1\n",
    "    if value2 > max_value: \n",
    "        max_value = value2\n",
    "    if value3 > max_value: \n",
    "        max_value = value3\n",
    "    return max_value\n",
    "\n",
    "#Create a function maximum value\n",
    "def rectangle_area(length, width): \n",
    "    \"\"\"Return the area of a rectangle.\"\"\"\n",
    "    area = length * width\n",
    "    return area"
   ]
  },
  {
   "cell_type": "code",
   "execution_count": 16,
   "metadata": {},
   "outputs": [
    {
     "name": "stdout",
     "output_type": "stream",
     "text": [
      "The maximum value is 30\n",
      "The square of 30 is 900\n",
      "The square root of 30 is 5.477225575051661\n",
      "The area of a rectangle ( 5 x 7 ) is 35\n",
      "5.477225575051661\n",
      "30.0\n",
      "11\n",
      "10\n"
     ]
    }
   ],
   "source": [
    "#test user functions\n",
    "\n",
    "import math\n",
    "\n",
    "value1 = int(input('Enter integer: '))\n",
    "value2 = int(input('Enter integer: '))\n",
    "value3 = int(input('Enter integer: '))\n",
    "\n",
    "value4 = int(input('Enter rectangle length: '))\n",
    "value5 = int(input('Enter rectangle width: '))\n",
    "\n",
    "valuemax = maximum(value1, value2, value3)\n",
    "\n",
    "print(\"The maximum value is\", valuemax)\n",
    "print(\"The square of\", valuemax, \"is\", square(valuemax))\n",
    "print(\"The square root of\", valuemax, \"is\", square_root(valuemax))\n",
    "\n",
    "print(\"The area of a rectangle (\", value4,\"x\",value5,\")\", \"is\", rectangle_area(value4, value5))\n",
    "\n",
    "#use the BIF from MATH\n",
    "print(math.sqrt(valuemax))\n",
    "print(math.fabs(valuemax)) #absolute value\n",
    "\n",
    "print(math.ceil(10.5))\n",
    "print(math.floor(10.5))\n",
    "\n"
   ]
  },
  {
   "cell_type": "code",
   "execution_count": 13,
   "metadata": {},
   "outputs": [
    {
     "name": "stdout",
     "output_type": "stream",
     "text": [
      "\u001b[1;31mSignature:\u001b[0m \u001b[0mmath\u001b[0m\u001b[1;33m.\u001b[0m\u001b[0mfabs\u001b[0m\u001b[1;33m(\u001b[0m\u001b[0mx\u001b[0m\u001b[1;33m,\u001b[0m \u001b[1;33m/\u001b[0m\u001b[1;33m)\u001b[0m\u001b[1;33m\u001b[0m\u001b[1;33m\u001b[0m\u001b[0m\n",
      "\u001b[1;31mDocstring:\u001b[0m Return the absolute value of the float x.\n",
      "\u001b[1;31mType:\u001b[0m      builtin_function_or_method\n"
     ]
    }
   ],
   "source": [
    "square??\n",
    "math.fabs?"
   ]
  },
  {
   "cell_type": "code",
   "execution_count": 24,
   "metadata": {},
   "outputs": [
    {
     "name": "stdout",
     "output_type": "stream",
     "text": [
      "30\n",
      "10\n"
     ]
    }
   ],
   "source": [
    "#Lee Jones\n",
    "#Test built in functions\n",
    "\n",
    "mylist = [10, 20, 30]\n",
    "print(max(mylist))\n",
    "print(min(mylist))"
   ]
  },
  {
   "cell_type": "code",
   "execution_count": 25,
   "metadata": {},
   "outputs": [
    {
     "name": "stdout",
     "output_type": "stream",
     "text": [
      "5 1 2 2 2 4 3 6 4 6 "
     ]
    }
   ],
   "source": [
    "#six sided die\n",
    "import random\n",
    "\n",
    "for roll in range(10):\n",
    "    print(random.randrange(1,7),end=' ')"
   ]
  },
  {
   "cell_type": "code",
   "execution_count": 28,
   "metadata": {},
   "outputs": [
    {
     "name": "stdout",
     "output_type": "stream",
     "text": [
      "face    Frequency\n",
      "   1       999854\n",
      "   2      1001026\n",
      "   3       999774\n",
      "   4       999809\n",
      "   5       999624\n",
      "   6       999913\n"
     ]
    }
   ],
   "source": [
    "#roll a 6 sided die 6M times\n",
    "import random\n",
    "\n",
    "# face frequency counters\n",
    "frequency1 = 0\n",
    "frequency2 = 0\n",
    "frequency3 = 0\n",
    "frequency4 = 0\n",
    "frequency5 = 0\n",
    "frequency6 = 0\n",
    "\n",
    "# 6M die rolls\n",
    "for roll in range(6_000_000): # the underscore is used to make it more readable\n",
    "    face = random.randrange(1, 7)\n",
    "\n",
    "    # increment appropriate face counter\n",
    "    if face == 1: \n",
    "        frequency1 += 1\n",
    "    elif face == 2: \n",
    "        frequency2 += 1\n",
    "    elif face == 3: \n",
    "        frequency3 += 1\n",
    "    elif face == 4: \n",
    "        frequency4 += 1\n",
    "    elif face == 5: \n",
    "        frequency5 += 1\n",
    "    elif face == 6: \n",
    "        frequency6 += 1\n",
    "\n",
    "print(f'face{\"Frequency\":>13}')\n",
    "print(f'{1:>4}{frequency1:>13}')\n",
    "print(f'{2:>4}{frequency2:>13}')\n",
    "print(f'{3:>4}{frequency3:>13}')\n",
    "print(f'{4:>4}{frequency4:>13}')\n",
    "print(f'{5:>4}{frequency5:>13}')\n",
    "print(f'{6:>4}{frequency6:>13}')\n"
   ]
  },
  {
   "cell_type": "code",
   "execution_count": 43,
   "metadata": {},
   "outputs": [
    {
     "name": "stdout",
     "output_type": "stream",
     "text": [
      "H T H T H H T T H T T H T T T T H T T T  \n",
      "Side        Count\n",
      "   1            8\n",
      "   2           12\n"
     ]
    }
   ],
   "source": [
    "#flip a coin (Heads or Tails)\n",
    "import random\n",
    "\n",
    "countheads = 0\n",
    "counttails = 0\n",
    "\n",
    "for i in range(20):\n",
    "    if random.randrange(2) == 0:\n",
    "        countheads += 1\n",
    "    else:\n",
    "        counttails += 1\n",
    "\n",
    "    print(\"H\" if random.randrange(2) == 0 else \"T\", end=' ')\n",
    "\n",
    "print(\" \")\n",
    "\n",
    "print(f'Side{\"Count\":>13}')\n",
    "print(f'{1:>4}{countheads:>13}') # how do I make this printout say \"heads\" and \"tails\" instead of 1 and 2?\n",
    "print(f'{2:>4}{counttails:>13}')"
   ]
  },
  {
   "cell_type": "code",
   "execution_count": 7,
   "metadata": {},
   "outputs": [
    {
     "name": "stdout",
     "output_type": "stream",
     "text": [
      "Player rolled 6 + 4 = 10\n",
      "Point is 10\n",
      "Player rolled 2 + 3 = 5\n",
      "Player rolled 6 + 2 = 8\n",
      "Player rolled 5 + 5 = 10\n",
      "Player wins\n"
     ]
    }
   ],
   "source": [
    "# Code copied from example - got to test and see logic\n",
    "# fig04_02.py\n",
    "\"\"\"Simulating the dice game Craps.\"\"\"\n",
    "import random\n",
    "\n",
    "def roll_dice():\n",
    "    \"\"\"Roll two dice and return their face values as a tuple.\"\"\"\n",
    "    die1 = random.randrange(1, 7)\n",
    "    die2 = random.randrange(1, 7)\n",
    "    return (die1, die2)  # pack die face values into a tuple\n",
    "\n",
    "def display_dice(dice):\n",
    "    \"\"\"Display one roll of the two dice.\"\"\"\n",
    "    die1, die2 = dice  # unpack the tuple into variables die1 and die2\n",
    "    print(f'Player rolled {die1} + {die2} = {sum(dice)}')\n",
    "\n",
    "die_values = roll_dice()  # first roll\n",
    "display_dice(die_values)\n",
    "\n",
    "# determine game status and point, based on first roll\n",
    "sum_of_dice = sum(die_values)\n",
    "\n",
    "if sum_of_dice in (7, 11):  # win\n",
    "    game_status = 'WON'\n",
    "elif sum_of_dice in (2, 3, 12):  # lose\n",
    "    game_status = 'LOST'\n",
    "else:  # remember point\n",
    "    game_status = 'CONTINUE'\n",
    "    my_point = sum_of_dice\n",
    "    print('Point is', my_point)\n",
    "\n",
    "# continue rolling until player wins or loses\n",
    "while game_status == 'CONTINUE':\n",
    "    die_values = roll_dice()\n",
    "    display_dice(die_values)\n",
    "    sum_of_dice = sum(die_values)\n",
    "\n",
    "    if sum_of_dice == my_point:  # win by making point\n",
    "        game_status = 'WON'\n",
    "    elif sum_of_dice == 7:  # lose by rolling 7\n",
    "        game_status = 'LOST'\n",
    "\n",
    "# display \"wins\" or \"loses\" message\n",
    "if game_status == 'WON':\n",
    "    print('Player wins')\n",
    "else:\n",
    "    print('Player loses')\n"
   ]
  },
  {
   "cell_type": "code",
   "execution_count": 18,
   "metadata": {},
   "outputs": [
    {
     "data": {
      "text/plain": [
       "80.6"
      ]
     },
     "execution_count": 18,
     "metadata": {},
     "output_type": "execute_result"
    }
   ],
   "source": [
    "import statistics as stats\n",
    "\n",
    "grades = [85, 93, 45, 87, 93]\n",
    "\n",
    "stats.mean(grades)"
   ]
  },
  {
   "cell_type": "code",
   "execution_count": 19,
   "metadata": {},
   "outputs": [
    {
     "name": "stdout",
     "output_type": "stream",
     "text": [
      "38\n",
      "97\n",
      "5\n",
      "8\n",
      "17\n",
      "73\n",
      "25\n",
      "31\n",
      "88\n",
      "77\n"
     ]
    }
   ],
   "source": [
    "# Lee Jones\n",
    "# Objective 1 \n",
    "\n",
    "#Create Custom functions\n",
    "import random\n",
    "import math \n",
    "\n",
    "# processing - generate 10 random numbers\n",
    "for _ in range(10):\n",
    "    # generate some integers\n",
    "    #value = random.randint(0,10)\n",
    "    value = random.randint(0,100)\n",
    "    print(value)\n"
   ]
  },
  {
   "cell_type": "code",
   "execution_count": null,
   "metadata": {},
   "outputs": [],
   "source": [
    "#Ch 4 exercies\n"
   ]
  }
 ],
 "metadata": {
  "kernelspec": {
   "display_name": "Python 3.9.12 ('base')",
   "language": "python",
   "name": "python3"
  },
  "language_info": {
   "codemirror_mode": {
    "name": "ipython",
    "version": 3
   },
   "file_extension": ".py",
   "mimetype": "text/x-python",
   "name": "python",
   "nbconvert_exporter": "python",
   "pygments_lexer": "ipython3",
   "version": "3.9.12"
  },
  "orig_nbformat": 4,
  "vscode": {
   "interpreter": {
    "hash": "fd998f0dae5f08cebb7df1c28aeb21fcbbf832e26386bcca61b87155b79048bf"
   }
  }
 },
 "nbformat": 4,
 "nbformat_minor": 2
}
